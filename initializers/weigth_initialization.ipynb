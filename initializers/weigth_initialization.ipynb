{
  "nbformat": 4,
  "nbformat_minor": 0,
  "metadata": {
    "colab": {
      "name": "weigth-initialization.ipynb",
      "provenance": [],
      "collapsed_sections": [],
      "toc_visible": true
    },
    "kernelspec": {
      "name": "python3",
      "display_name": "Python 3"
    }
  },
  "cells": [
    {
      "cell_type": "markdown",
      "metadata": {
        "id": "m0Nc_-jGmsiR"
      },
      "source": [
        "### Initializer weights \n",
        "\n",
        "\n",
        "<br>"
      ]
    },
    {
      "cell_type": "code",
      "metadata": {
        "id": "IliqC8-gmTRX"
      },
      "source": [
        "import os \n",
        "import glob \n",
        "import numpy as np\n",
        "import pandas as pd\n",
        "import matplotlib.pyplot as plt\n",
        "from tqdm import tqdm\n",
        "\n",
        "%matplotlib inline \n",
        "import warnings\n",
        "warnings.filterwarnings(\"ignore\")\n",
        "\n",
        "from sklearn.model_selection import train_test_split\n",
        "from sklearn.preprocessing import LabelEncoder\n",
        "\n",
        "import tensorflow as tf \n",
        "from tensorflow.keras.models import Sequential\n",
        "from tensorflow.keras.layers import Dense, Input, Flatten\n",
        "from tensorflow.keras.layers import Conv2D, MaxPooling2D, Dropout\n",
        "from tensorflow.keras.preprocessing.image import load_img, img_to_array, array_to_img\n",
        "from tensorflow.keras.optimizers import Adam\n",
        "from tensorflow.keras.losses import BinaryCrossentropy\n",
        "from tensorflow.keras.utils import to_categorical\n",
        "\n",
        "# Initializers \n",
        "from tensorflow.keras.initializers import GlorotNormal\n",
        "from tensorflow.keras.initializers import HeNormal\n",
        "from tensorflow.keras.initializers import LecunNormal"
      ],
      "execution_count": 1,
      "outputs": []
    },
    {
      "cell_type": "code",
      "metadata": {
        "id": "lLFr8HCjnp99"
      },
      "source": [
        "np.random.seed(42)\n",
        "tf.random.set_seed(42)"
      ],
      "execution_count": 2,
      "outputs": []
    },
    {
      "cell_type": "code",
      "metadata": {
        "id": "--yOJL3jn0rn"
      },
      "source": [
        "path  = [\"mountain.jpg\", \"valey.jpg\"]\n",
        "labels = []\n",
        "\n",
        "for img in path: \n",
        "  if img == \"mountain.jpg\":\n",
        "    labels.append(\"Mountain\")\n",
        "  elif img == \"valey.jpg\":\n",
        "    labels.append(\"Valey\")"
      ],
      "execution_count": 3,
      "outputs": []
    },
    {
      "cell_type": "code",
      "metadata": {
        "id": "xD8LRznZnngi"
      },
      "source": [
        "def load_images(path):\n",
        "\n",
        "  list_images = []\n",
        "  labels = []\n",
        "\n",
        "  for image in tqdm(path):\n",
        "    images = load_img(image, color_mode=\"rgb\", target_size=(150,150,3))\n",
        "    images = img_to_array(images)\n",
        "    images /= 255.0\n",
        "\n",
        "    list_images.append(images)\n",
        "\n",
        "\n",
        "  for img in tqdm(path): \n",
        "    if img == \"mountain.jpg\":\n",
        "      labels.append(\"Mountain\")\n",
        "    elif img == \"valey.jpg\":\n",
        "      labels.append(\"Valey\")\n",
        "\n",
        "\n",
        "    return list_images, labels"
      ],
      "execution_count": 4,
      "outputs": []
    },
    {
      "cell_type": "code",
      "metadata": {
        "id": "LreCE-MupIw6",
        "outputId": "e4fa484c-e6c2-422c-e5ba-9bf5a2342c0f",
        "colab": {
          "base_uri": "https://localhost:8080/",
          "height": 51
        }
      },
      "source": [
        "images, labels = load_images(path=path)\n",
        "labels.append(\"Valey\")"
      ],
      "execution_count": 5,
      "outputs": [
        {
          "output_type": "stream",
          "text": [
            "100%|██████████| 2/2 [00:00<00:00, 175.80it/s]\n",
            "  0%|          | 0/2 [00:00<?, ?it/s]\n"
          ],
          "name": "stderr"
        }
      ]
    },
    {
      "cell_type": "code",
      "metadata": {
        "id": "ssFRsuVq1ry0"
      },
      "source": [
        "# label encoder \n",
        "\n",
        "encoder = LabelEncoder()\n",
        "labels = encoder.fit_transform(labels)\n",
        "labels = to_categorical(labels)"
      ],
      "execution_count": 6,
      "outputs": []
    },
    {
      "cell_type": "code",
      "metadata": {
        "id": "xKorS-gq0RDd"
      },
      "source": [
        "# convert to array \n",
        "X = np.array(images)\n",
        "y = np.array(labels)\n",
        "\n",
        "\n",
        "X_train, X_test, y_train, y_test = train_test_split(X,y, test_size=0.50, random_state=42)"
      ],
      "execution_count": 7,
      "outputs": []
    },
    {
      "cell_type": "code",
      "metadata": {
        "id": "ER4LSBPJ0X1g"
      },
      "source": [
        "model = Sequential()\n",
        "model.add(Input(shape=(150,150,3)))\n",
        "model.add(Conv2D(64, (3,3), padding=\"same\", activation=\"relu\", kernel_initializer=GlorotNormal(seed=42)))\n",
        "model.add(MaxPooling2D((2,2), padding=\"valid\"))\n",
        "model.add(Flatten())\n",
        "model.add(Dense(50, activation=\"relu\"))\n",
        "model.add(Dense(2, activation=\"sigmoid\"))\n",
        "\n",
        "model.compile(optimizer=Adam(0.002),\n",
        "              loss=BinaryCrossentropy(),\n",
        "              metrics=[\"accuracy\"])\n"
      ],
      "execution_count": 8,
      "outputs": []
    },
    {
      "cell_type": "code",
      "metadata": {
        "id": "xwVOwHt21Hh-",
        "outputId": "98d0813e-3303-4ff5-904a-19d92630d558",
        "colab": {
          "base_uri": "https://localhost:8080/",
          "height": 323
        }
      },
      "source": [
        "model.summary()"
      ],
      "execution_count": 9,
      "outputs": [
        {
          "output_type": "stream",
          "text": [
            "Model: \"sequential\"\n",
            "_________________________________________________________________\n",
            "Layer (type)                 Output Shape              Param #   \n",
            "=================================================================\n",
            "conv2d (Conv2D)              (None, 150, 150, 64)      1792      \n",
            "_________________________________________________________________\n",
            "max_pooling2d (MaxPooling2D) (None, 75, 75, 64)        0         \n",
            "_________________________________________________________________\n",
            "flatten (Flatten)            (None, 360000)            0         \n",
            "_________________________________________________________________\n",
            "dense (Dense)                (None, 50)                18000050  \n",
            "_________________________________________________________________\n",
            "dense_1 (Dense)              (None, 2)                 102       \n",
            "=================================================================\n",
            "Total params: 18,001,944\n",
            "Trainable params: 18,001,944\n",
            "Non-trainable params: 0\n",
            "_________________________________________________________________\n"
          ],
          "name": "stdout"
        }
      ]
    },
    {
      "cell_type": "code",
      "metadata": {
        "id": "_3-S8dEp1JgK",
        "outputId": "35b3d363-d7e1-4bd4-e927-af82d023c967",
        "colab": {
          "base_uri": "https://localhost:8080/",
          "height": 394
        }
      },
      "source": [
        "model.fit(X_train, y_train, \n",
        "          epochs=10,\n",
        "          validation_data=(X_test, y_test))"
      ],
      "execution_count": 10,
      "outputs": [
        {
          "output_type": "stream",
          "text": [
            "Epoch 1/10\n",
            "1/1 [==============================] - 0s 155ms/step - loss: 0.7356 - accuracy: 0.0000e+00 - val_loss: 42.5575 - val_accuracy: 0.0000e+00\n",
            "Epoch 2/10\n",
            "1/1 [==============================] - 0s 30ms/step - loss: 2.2355e-15 - accuracy: 1.0000 - val_loss: 71.1413 - val_accuracy: 0.0000e+00\n",
            "Epoch 3/10\n",
            "1/1 [==============================] - 0s 30ms/step - loss: 4.9741e-25 - accuracy: 1.0000 - val_loss: 93.9788 - val_accuracy: 0.0000e+00\n",
            "Epoch 4/10\n",
            "1/1 [==============================] - 0s 30ms/step - loss: 1.0127e-32 - accuracy: 1.0000 - val_loss: 113.3275 - val_accuracy: 0.0000e+00\n",
            "Epoch 5/10\n",
            "1/1 [==============================] - 0s 31ms/step - loss: 0.0000e+00 - accuracy: 1.0000 - val_loss: 130.2634 - val_accuracy: 0.0000e+00\n",
            "Epoch 6/10\n",
            "1/1 [==============================] - 0s 30ms/step - loss: 0.0000e+00 - accuracy: 1.0000 - val_loss: 145.5253 - val_accuracy: 0.0000e+00\n",
            "Epoch 7/10\n",
            "1/1 [==============================] - 0s 33ms/step - loss: 0.0000e+00 - accuracy: 1.0000 - val_loss: 159.3308 - val_accuracy: 0.0000e+00\n",
            "Epoch 8/10\n",
            "1/1 [==============================] - 0s 30ms/step - loss: 0.0000e+00 - accuracy: 1.0000 - val_loss: 171.9589 - val_accuracy: 0.0000e+00\n",
            "Epoch 9/10\n",
            "1/1 [==============================] - 0s 31ms/step - loss: 0.0000e+00 - accuracy: 1.0000 - val_loss: 183.5388 - val_accuracy: 0.0000e+00\n",
            "Epoch 10/10\n",
            "1/1 [==============================] - 0s 29ms/step - loss: 0.0000e+00 - accuracy: 1.0000 - val_loss: 194.2127 - val_accuracy: 0.0000e+00\n"
          ],
          "name": "stdout"
        },
        {
          "output_type": "execute_result",
          "data": {
            "text/plain": [
              "<tensorflow.python.keras.callbacks.History at 0x7fc9b1382d68>"
            ]
          },
          "metadata": {
            "tags": []
          },
          "execution_count": 10
        }
      ]
    }
  ]
}